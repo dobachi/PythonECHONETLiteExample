{
 "cells": [
  {
   "cell_type": "markdown",
   "id": "dba3addf-d8d5-4f15-9bf6-aad7224dd2c5",
   "metadata": {},
   "source": [
    "# このノートブックについて"
   ]
  },
  {
   "cell_type": "markdown",
   "id": "5fdc70fc-c01d-45af-955a-1f8b445f8d0d",
   "metadata": {},
   "source": [
    "https://qiita.com/f-paico/items/4104bc3ba7501ef57fa6 を拝見しながら動作確認したもの。"
   ]
  },
  {
   "cell_type": "markdown",
   "id": "d7410de1-fd65-4ddc-9bd6-b14daf35e554",
   "metadata": {},
   "source": [
    "# 電気のオン・オフ"
   ]
  },
  {
   "cell_type": "code",
   "execution_count": 5,
   "id": "4b21b006-4d1e-49e7-a78c-2b1d91508394",
   "metadata": {},
   "outputs": [],
   "source": [
    "import socket\n",
    "import binascii"
   ]
  },
  {
   "cell_type": "code",
   "execution_count": 6,
   "id": "8ee1147a-8972-440c-b298-635076b05294",
   "metadata": {},
   "outputs": [],
   "source": [
    "def light_switch(command):\n",
    "    if command == 'on':\n",
    "        prop = '30'\n",
    "    elif command == 'off':\n",
    "        prop = '31'\n",
    "    else:\n",
    "        prop = '31'\n",
    "        \n",
    "    # MoekadenRoomを実行しているPCのIPアドレス（各自変更する）\n",
    "    ip = '10.0.4.71'\n",
    "    # ECHONET LiteはUDPの3610番ポートを使用する\n",
    "    ECHONETport = 3610\n",
    "    format_echonet_lite = ['EHD', 'TID', 'SEOJ', 'DEOJ', 'ESV', 'OPC', 'EPC', 'PDC', 'EDT']\n",
    "    data_format = {\n",
    "        format_echonet_lite[0]: '1081',\n",
    "        format_echonet_lite[1]: '0000',\n",
    "        format_echonet_lite[2]: '05FF01',\n",
    "        format_echonet_lite[3]: '029001',\n",
    "        format_echonet_lite[4]: '60',\n",
    "        format_echonet_lite[5]: '01',\n",
    "        format_echonet_lite[6]: '80',\n",
    "        format_echonet_lite[7]: '01',\n",
    "        format_echonet_lite[8]: prop\n",
    "    }\n",
    "\n",
    "    frame = ''\n",
    "    for key in format_echonet_lite:\n",
    "        frame += data_format[key]\n",
    "\n",
    "    # 16進数文字列をバイト列に変換する\n",
    "    msg = binascii.unhexlify(frame)\n",
    "\n",
    "    sock = socket.socket(socket.AF_INET, socket.SOCK_DGRAM)\n",
    "    sock.sendto(msg, (ip, ECHONETport))"
   ]
  },
  {
   "cell_type": "code",
   "execution_count": 7,
   "id": "6091947a-5c09-46f7-acd0-b4fcc7431248",
   "metadata": {},
   "outputs": [],
   "source": [
    "light_switch('on')"
   ]
  },
  {
   "cell_type": "code",
   "execution_count": 8,
   "id": "f95b460d-021d-4534-a04d-11738ffc83f7",
   "metadata": {},
   "outputs": [],
   "source": [
    "light_switch('off')"
   ]
  },
  {
   "cell_type": "markdown",
   "id": "80aac7b0-27d1-4254-bd56-140f6546808c",
   "metadata": {},
   "source": [
    "# 応答を受け取る"
   ]
  },
  {
   "cell_type": "code",
   "execution_count": 1,
   "id": "6c193185-ec94-4427-a4a8-57bfa8519a76",
   "metadata": {},
   "outputs": [],
   "source": [
    "import socket\n",
    "import binascii\n",
    "from threading import Thread\n",
    "import time"
   ]
  },
  {
   "cell_type": "code",
   "execution_count": 4,
   "id": "33744432-0aef-4259-b4e5-2c6886655166",
   "metadata": {},
   "outputs": [],
   "source": [
    "def light_switch(command):\n",
    "    if command == 'on':\n",
    "        prop = '30'\n",
    "    elif command == 'off':\n",
    "        prop = '31'\n",
    "    else:\n",
    "        prop = '31'\n",
    "        \n",
    "    # MoekadenRoomを実行しているPCのIPアドレス（各自変更する）\n",
    "    ip = '10.0.4.71'\n",
    "    # ECHONET LiteはUDPの3610番ポートを使用する\n",
    "    ECHONETport = 3610\n",
    "    format_echonet_lite = ['EHD', 'TID', 'SEOJ', 'DEOJ', 'ESV', 'OPC', 'EPC', 'PDC', 'EDT']\n",
    "    data_format = {\n",
    "        format_echonet_lite[0]: '1081',\n",
    "        format_echonet_lite[1]: '0000',\n",
    "        format_echonet_lite[2]: '05FF01',\n",
    "        format_echonet_lite[3]: '029001',\n",
    "        format_echonet_lite[4]: '61',  # 応答を受け取る\n",
    "        format_echonet_lite[5]: '01',\n",
    "        format_echonet_lite[6]: '80',\n",
    "        format_echonet_lite[7]: '01',\n",
    "        format_echonet_lite[8]: prop\n",
    "    }\n",
    "\n",
    "    frame = ''\n",
    "    for key in format_echonet_lite:\n",
    "        frame += data_format[key]\n",
    "\n",
    "    # 16進数文字列をバイト列に変換する\n",
    "    msg = binascii.unhexlify(frame)\n",
    "\n",
    "    sock = socket.socket(socket.AF_INET, socket.SOCK_DGRAM)\n",
    "    sock.sendto(msg, (ip, ECHONETport))\n",
    "    print('send')"
   ]
  },
  {
   "cell_type": "code",
   "execution_count": 6,
   "id": "d074677c-6656-4e13-b32c-e99824c63d01",
   "metadata": {},
   "outputs": [
    {
     "name": "stdout",
     "output_type": "stream",
     "text": [
      "send\n"
     ]
    }
   ],
   "source": [
    "light_switch('off')"
   ]
  },
  {
   "cell_type": "markdown",
   "id": "4ae187e7-44ad-475d-87a2-d8c7992493b3",
   "metadata": {},
   "source": [
    "# マルチキャストで試す"
   ]
  },
  {
   "cell_type": "code",
   "execution_count": 15,
   "id": "14c15906-aebe-4282-85bc-90d012bd09ad",
   "metadata": {},
   "outputs": [],
   "source": [
    "# ---------------------------------------------------\n",
    "# 3.2.1 ECHONET Lite ヘッダ(EHD)\n",
    "# ---------------------------------------------------\n",
    "# 3.2.1.1 ECHONET Lite ヘッダ 1(EHD1)\n",
    "EHD1 = \"10\"  # ECHONET Lite規格\n",
    "\n",
    "# 3.2.1.2 ECHONET Lite ヘッダ 2(EHD2)\n",
    "EHD2 = \"81\"  # 形式１（規定電文形式）\n",
    "\n",
    "# 3.2.2 Transaction ID(TID)\n",
    "TID = \"0001\"  # IDなのでこの検証ではどの値でもOK\n",
    "\n",
    "# フレームのヘッダ－を構成\n",
    "EHD = EHD1 + EHD2 + TID"
   ]
  },
  {
   "cell_type": "code",
   "execution_count": 16,
   "id": "7a61a731-19d5-4306-9b19-449193056e44",
   "metadata": {},
   "outputs": [],
   "source": [
    "# ---------------------------------------------------\n",
    "# 3.2.1 ECHONET Lite データ(EDATA)\n",
    "# ---------------------------------------------------\n",
    "# 3.2.4 ECHONETオブジェクト\n",
    "# EOJ = ECHONET Lite オブジェクト\n",
    "\n",
    "# SEOJ = 送信元ECHONET Lite オブジェクト\n",
    "SEOJ_CLS_GROUP = \"05\"     # 管理・操作関連クラスグループ\n",
    "SEOJ_CLS_CODE = \"ff\"      # コントローラー\n",
    "SEOJ_CLS_INSTANCE = \"01\"  # インスタンス番号\n",
    "SEOJ = SEOJ_CLS_GROUP + SEOJ_CLS_CODE + SEOJ_CLS_INSTANCE\n",
    "\n",
    "# DEOJ = 送信先ECHONET Lite オブジェクト\n",
    "DEOJ_CLS_GROUP = \"01\"     # 空調関連機器クラスグループ\n",
    "DEOJ_CLS_CODE = \"30\"      # 家庭用エアコンクラス\n",
    "DEOJ_CLS_INSTANCE = \"01\"  # All Instanses\n",
    "DEOJ = DEOJ_CLS_GROUP + DEOJ_CLS_CODE + DEOJ_CLS_INSTANCE\n",
    "\n",
    "\n",
    "# 3.2.5 ECHONET Lite サービス(ESV)\n",
    "ESV = \"62\"  # プロパティ値読み出し要求 (Get)\n",
    "\n",
    "###############\n",
    "# APPENDIX ECHONET機器オブジェクト詳細規定\n",
    "# - 空調関連機器クラスグループ\n",
    "#  - 家庭用エアコンクラス規定\n",
    "# を確認\n",
    "\n",
    "# 3.2.6 処理プロパティカウンタ\n",
    "OPC = \"02\"  # 2件\n",
    "\n",
    "\n",
    "# プロパティ 1件目\n",
    "EPC1 = \"80\"    # 動作状態の取得(On or Off)\n",
    "PDC1 = \"00\"    # Getの場合は0でOK\n",
    "EDT1 = \"\"      # Getの場合はEDTは不要\n",
    "PROP1 = EPC1 + PDC1 + EDT1\n",
    "\n",
    "# プロパティ 2件目\n",
    "EPC2 = \"b3\"    # 温度設定の取得\n",
    "PDC2 = \"00\"    # Getの場合は0でOK\n",
    "EDT2 = \"\"      # Getの場合はEDTは不要\n",
    "PROP2 = EPC2 + PDC2 + EDT2\n",
    "\n",
    "\n",
    "# フレームのデータ部分であるEDATAを構成\n",
    "EDATA = SEOJ + DEOJ + ESV + OPC + PROP1 + PROP2"
   ]
  },
  {
   "cell_type": "code",
   "execution_count": 17,
   "id": "8f807b05-dca4-45a4-8638-c587b2948a40",
   "metadata": {},
   "outputs": [],
   "source": [
    "echonet_command = EHD + EDATA\n"
   ]
  },
  {
   "cell_type": "code",
   "execution_count": 21,
   "id": "c1635c35-31dc-4341-9f44-f7bf81c8d42a",
   "metadata": {},
   "outputs": [
    {
     "ename": "NameError",
     "evalue": "name 'sock' is not defined",
     "output_type": "error",
     "traceback": [
      "\u001b[0;31m---------------------------------------------------------------------------\u001b[0m",
      "\u001b[0;31mNameError\u001b[0m                                 Traceback (most recent call last)",
      "\u001b[0;32m/tmp/ipykernel_25763/3248115980.py\u001b[0m in \u001b[0;36m<module>\u001b[0;34m\u001b[0m\n\u001b[1;32m     11\u001b[0m \u001b[0;31m#send_sock = socket.socket(socket.AF_INET, socket.SOCK_DGRAM)\u001b[0m\u001b[0;34m\u001b[0m\u001b[0;34m\u001b[0m\u001b[0;34m\u001b[0m\u001b[0m\n\u001b[1;32m     12\u001b[0m \u001b[0;31m#send_sock.sendto(bytes.fromhex(echonet_command), (aircon_ip, echonet_port))\u001b[0m\u001b[0;34m\u001b[0m\u001b[0;34m\u001b[0m\u001b[0;34m\u001b[0m\u001b[0m\n\u001b[0;32m---> 13\u001b[0;31m \u001b[0msock\u001b[0m\u001b[0;34m.\u001b[0m\u001b[0msendto\u001b[0m\u001b[0;34m(\u001b[0m\u001b[0mbytes\u001b[0m\u001b[0;34m.\u001b[0m\u001b[0mfromhex\u001b[0m\u001b[0;34m(\u001b[0m\u001b[0mechonet_command\u001b[0m\u001b[0;34m)\u001b[0m\u001b[0;34m,\u001b[0m \u001b[0;34m(\u001b[0m\u001b[0maircon_ip\u001b[0m\u001b[0;34m,\u001b[0m \u001b[0mechonet_port\u001b[0m\u001b[0;34m)\u001b[0m\u001b[0;34m)\u001b[0m\u001b[0;34m\u001b[0m\u001b[0;34m\u001b[0m\u001b[0m\n\u001b[0m",
      "\u001b[0;31mNameError\u001b[0m: name 'sock' is not defined"
     ]
    }
   ],
   "source": [
    "import socket\n",
    "\n",
    "echonet_port = 3610\n",
    "aircon_ip = \"224.0.23.0\"  # 224.0.23.0のアドレスを使うとマルチキャストもできます\n",
    "\n",
    "# 応答待ち受け用ソケット\n",
    "#recv_sock = socket.socket(socket.AF_INET, socket.SOCK_DGRAM)\n",
    "#recv_sock.bind((\"0.0.0.0\", echonet_port))\n",
    "\n",
    "# 要求送信用ソケットでコマンド送信\n",
    "#send_sock = socket.socket(socket.AF_INET, socket.SOCK_DGRAM)\n",
    "#send_sock.sendto(bytes.fromhex(echonet_command), (aircon_ip, echonet_port))\n",
    "sock.sendto(bytes.fromhex(echonet_command), (aircon_ip, echonet_port))"
   ]
  },
  {
   "cell_type": "code",
   "execution_count": null,
   "id": "baa864d3-9a81-43db-ba31-e67edd63ce18",
   "metadata": {},
   "outputs": [],
   "source": []
  }
 ],
 "metadata": {
  "kernelspec": {
   "display_name": "Python 3 (ipykernel)",
   "language": "python",
   "name": "python3"
  },
  "language_info": {
   "codemirror_mode": {
    "name": "ipython",
    "version": 3
   },
   "file_extension": ".py",
   "mimetype": "text/x-python",
   "name": "python",
   "nbconvert_exporter": "python",
   "pygments_lexer": "ipython3",
   "version": "3.7.10"
  }
 },
 "nbformat": 4,
 "nbformat_minor": 5
}
