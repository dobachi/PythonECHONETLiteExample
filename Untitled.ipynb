{
 "cells": [
  {
   "cell_type": "code",
   "execution_count": 1,
   "id": "a6a9f4a6-57c8-409a-b79d-8978a51198d5",
   "metadata": {},
   "outputs": [],
   "source": [
    "# ---------------------------------------------------\n",
    "# 3.2.1 ECHONET Lite ヘッダ(EHD)\n",
    "# ---------------------------------------------------\n",
    "# 3.2.1.1 ECHONET Lite ヘッダ 1(EHD1)\n",
    "EHD1 = \"10\"  # ECHONET Lite規格\n",
    "\n",
    "# 3.2.1.2 ECHONET Lite ヘッダ 2(EHD2)\n",
    "EHD2 = \"81\"  # 形式１（規定電文形式）\n",
    "\n",
    "# 3.2.2 Transaction ID(TID)\n",
    "TID = \"0001\"  # IDなのでこの検証ではどの値でもOK\n",
    "\n",
    "# フレームのヘッダ－を構成\n",
    "EHD = EHD1 + EHD2 + TID"
   ]
  },
  {
   "cell_type": "code",
   "execution_count": 2,
   "id": "91c8a2ed-da97-4199-b2b1-bf3ec52c52ad",
   "metadata": {},
   "outputs": [],
   "source": [
    "# ---------------------------------------------------\n",
    "# 3.2.1 ECHONET Lite データ(EDATA)\n",
    "# ---------------------------------------------------\n",
    "# 3.2.4 ECHONETオブジェクト\n",
    "# EOJ = ECHONET Lite オブジェクト\n",
    "\n",
    "# SEOJ = 送信元ECHONET Lite オブジェクト\n",
    "SEOJ_CLS_GROUP = \"05\"     # 管理・操作関連クラスグループ\n",
    "SEOJ_CLS_CODE = \"ff\"      # コントローラー\n",
    "SEOJ_CLS_INSTANCE = \"01\"  # インスタンス番号\n",
    "SEOJ = SEOJ_CLS_GROUP + SEOJ_CLS_CODE + SEOJ_CLS_INSTANCE\n",
    "\n",
    "# DEOJ = 送信先ECHONET Lite オブジェクト\n",
    "DEOJ_CLS_GROUP = \"01\"     # 空調関連機器クラスグループ\n",
    "DEOJ_CLS_CODE = \"30\"      # 家庭用エアコンクラス\n",
    "DEOJ_CLS_INSTANCE = \"01\"  # All Instanses\n",
    "DEOJ = DEOJ_CLS_GROUP + DEOJ_CLS_CODE + DEOJ_CLS_INSTANCE\n",
    "\n",
    "\n",
    "# 3.2.5 ECHONET Lite サービス(ESV)\n",
    "ESV = \"62\"  # プロパティ値読み出し要求 (Get)\n",
    "\n",
    "###############\n",
    "# APPENDIX ECHONET機器オブジェクト詳細規定\n",
    "# - 空調関連機器クラスグループ\n",
    "#  - 家庭用エアコンクラス規定\n",
    "# を確認\n",
    "\n",
    "# 3.2.6 処理プロパティカウンタ\n",
    "OPC = \"02\"  # 2件\n",
    "\n",
    "\n",
    "# プロパティ 1件目\n",
    "EPC1 = \"80\"    # 動作状態の取得(On or Off)\n",
    "PDC1 = \"00\"    # Getの場合は0でOK\n",
    "EDT1 = \"\"      # Getの場合はEDTは不要\n",
    "PROP1 = EPC1 + PDC1 + EDT1\n",
    "\n",
    "# プロパティ 2件目\n",
    "EPC2 = \"b3\"    # 温度設定の取得\n",
    "PDC2 = \"00\"    # Getの場合は0でOK\n",
    "EDT2 = \"\"      # Getの場合はEDTは不要\n",
    "PROP2 = EPC2 + PDC2 + EDT2\n",
    "\n",
    "\n",
    "# フレームのデータ部分であるEDATAを構成\n",
    "EDATA = SEOJ + DEOJ + ESV + OPC + PROP1 + PROP2"
   ]
  },
  {
   "cell_type": "code",
   "execution_count": 3,
   "id": "9d905f17-caa9-4a30-903e-5a49aecfe0f6",
   "metadata": {},
   "outputs": [],
   "source": [
    "echonet_command = EHD + EDATA"
   ]
  },
  {
   "cell_type": "code",
   "execution_count": 4,
   "id": "5df216ae-f1cd-4167-a6fa-a3cabd6ddcab",
   "metadata": {},
   "outputs": [],
   "source": [
    "import socket\n",
    "\n",
    "echonet_port = 3610\n",
    "#aircon_ip = \"10.0.4.60\"  # 224.0.23.0のアドレスを使うとマルチキャストもできます\n",
    "aircon_ip = \"224.0.23.0\"  # 224.0.23.0のアドレスを使うとマルチキャストもできます\n",
    "\n",
    "# 応答待ち受け用ソケット\n",
    "recv_sock = socket.socket(socket.AF_INET, socket.SOCK_DGRAM)\n",
    "recv_sock.bind((\"0.0.0.0\", echonet_port))"
   ]
  },
  {
   "cell_type": "code",
   "execution_count": 5,
   "id": "35f40f6c-cd13-4baf-8728-85e04c128ef5",
   "metadata": {},
   "outputs": [
    {
     "data": {
      "text/plain": [
       "16"
      ]
     },
     "execution_count": 5,
     "metadata": {},
     "output_type": "execute_result"
    }
   ],
   "source": [
    "# 要求送信用ソケットでコマンド送信\n",
    "send_sock = socket.socket(socket.AF_INET, socket.SOCK_DGRAM)\n",
    "send_sock.sendto(bytes.fromhex(echonet_command), (aircon_ip, echonet_port))"
   ]
  },
  {
   "cell_type": "code",
   "execution_count": null,
   "id": "9e3587aa-4ddc-4db4-8aff-ca869a94fece",
   "metadata": {},
   "outputs": [],
   "source": [
    "# 応答を受け取る\n",
    "data, addr = recv_sock.recvfrom(1024)\n",
    "send_sock.close()\n",
    "recv_sock.close()"
   ]
  },
  {
   "cell_type": "code",
   "execution_count": null,
   "id": "632d980f-d2e7-424e-b5f1-0c7b6fabf4d2",
   "metadata": {},
   "outputs": [],
   "source": []
  }
 ],
 "metadata": {
  "kernelspec": {
   "display_name": "Python 3 (ipykernel)",
   "language": "python",
   "name": "python3"
  },
  "language_info": {
   "codemirror_mode": {
    "name": "ipython",
    "version": 3
   },
   "file_extension": ".py",
   "mimetype": "text/x-python",
   "name": "python",
   "nbconvert_exporter": "python",
   "pygments_lexer": "ipython3",
   "version": "3.7.10"
  }
 },
 "nbformat": 4,
 "nbformat_minor": 5
}
